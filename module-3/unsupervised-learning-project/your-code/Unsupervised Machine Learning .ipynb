{
 "cells": [
  {
   "cell_type": "code",
   "execution_count": 1,
   "metadata": {},
   "outputs": [],
   "source": [
    "import pandas as pd\n",
    "import numpy as np\n",
    "import matplotlib.pyplot as plt\n",
    "import matplotlib.image as mpimg\n",
    "from matplotlib import pyplot\n",
    "%matplotlib inline\n",
    "import seaborn as sns"
   ]
  },
  {
   "cell_type": "code",
   "execution_count": 2,
   "metadata": {},
   "outputs": [],
   "source": [
    "players = pd.read_csv('fifa_players_2019.csv')"
   ]
  },
  {
   "cell_type": "code",
   "execution_count": 36,
   "metadata": {},
   "outputs": [
    {
     "data": {
      "text/html": [
       "<div>\n",
       "<style scoped>\n",
       "    .dataframe tbody tr th:only-of-type {\n",
       "        vertical-align: middle;\n",
       "    }\n",
       "\n",
       "    .dataframe tbody tr th {\n",
       "        vertical-align: top;\n",
       "    }\n",
       "\n",
       "    .dataframe thead th {\n",
       "        text-align: right;\n",
       "    }\n",
       "</style>\n",
       "<table border=\"1\" class=\"dataframe\">\n",
       "  <thead>\n",
       "    <tr style=\"text-align: right;\">\n",
       "      <th></th>\n",
       "      <th>Age</th>\n",
       "      <th>Overall</th>\n",
       "      <th>Potential</th>\n",
       "      <th>Special</th>\n",
       "      <th>International Reputation</th>\n",
       "      <th>Weak Foot</th>\n",
       "      <th>Skill Moves</th>\n",
       "      <th>Jersey Number</th>\n",
       "      <th>Crossing</th>\n",
       "      <th>Finishing</th>\n",
       "      <th>...</th>\n",
       "      <th>Composure</th>\n",
       "      <th>Marking</th>\n",
       "      <th>StandingTackle</th>\n",
       "      <th>SlidingTackle</th>\n",
       "      <th>GKDiving</th>\n",
       "      <th>GKHandling</th>\n",
       "      <th>GKKicking</th>\n",
       "      <th>GKPositioning</th>\n",
       "      <th>GKReflexes</th>\n",
       "      <th>labels</th>\n",
       "    </tr>\n",
       "  </thead>\n",
       "  <tbody>\n",
       "    <tr>\n",
       "      <th>0</th>\n",
       "      <td>31</td>\n",
       "      <td>94</td>\n",
       "      <td>94</td>\n",
       "      <td>2202</td>\n",
       "      <td>5.0</td>\n",
       "      <td>4.0</td>\n",
       "      <td>4.0</td>\n",
       "      <td>10.0</td>\n",
       "      <td>84.0</td>\n",
       "      <td>95.0</td>\n",
       "      <td>...</td>\n",
       "      <td>96.0</td>\n",
       "      <td>33.0</td>\n",
       "      <td>28.0</td>\n",
       "      <td>26.0</td>\n",
       "      <td>6.0</td>\n",
       "      <td>11.0</td>\n",
       "      <td>15.0</td>\n",
       "      <td>14.0</td>\n",
       "      <td>8.0</td>\n",
       "      <td>6</td>\n",
       "    </tr>\n",
       "    <tr>\n",
       "      <th>1</th>\n",
       "      <td>33</td>\n",
       "      <td>94</td>\n",
       "      <td>94</td>\n",
       "      <td>2228</td>\n",
       "      <td>5.0</td>\n",
       "      <td>4.0</td>\n",
       "      <td>5.0</td>\n",
       "      <td>7.0</td>\n",
       "      <td>84.0</td>\n",
       "      <td>94.0</td>\n",
       "      <td>...</td>\n",
       "      <td>95.0</td>\n",
       "      <td>28.0</td>\n",
       "      <td>31.0</td>\n",
       "      <td>23.0</td>\n",
       "      <td>7.0</td>\n",
       "      <td>11.0</td>\n",
       "      <td>15.0</td>\n",
       "      <td>14.0</td>\n",
       "      <td>11.0</td>\n",
       "      <td>6</td>\n",
       "    </tr>\n",
       "    <tr>\n",
       "      <th>2</th>\n",
       "      <td>26</td>\n",
       "      <td>92</td>\n",
       "      <td>93</td>\n",
       "      <td>2143</td>\n",
       "      <td>5.0</td>\n",
       "      <td>5.0</td>\n",
       "      <td>5.0</td>\n",
       "      <td>10.0</td>\n",
       "      <td>79.0</td>\n",
       "      <td>87.0</td>\n",
       "      <td>...</td>\n",
       "      <td>94.0</td>\n",
       "      <td>27.0</td>\n",
       "      <td>24.0</td>\n",
       "      <td>33.0</td>\n",
       "      <td>9.0</td>\n",
       "      <td>9.0</td>\n",
       "      <td>15.0</td>\n",
       "      <td>15.0</td>\n",
       "      <td>11.0</td>\n",
       "      <td>6</td>\n",
       "    </tr>\n",
       "    <tr>\n",
       "      <th>3</th>\n",
       "      <td>27</td>\n",
       "      <td>91</td>\n",
       "      <td>93</td>\n",
       "      <td>1471</td>\n",
       "      <td>4.0</td>\n",
       "      <td>3.0</td>\n",
       "      <td>1.0</td>\n",
       "      <td>1.0</td>\n",
       "      <td>17.0</td>\n",
       "      <td>13.0</td>\n",
       "      <td>...</td>\n",
       "      <td>68.0</td>\n",
       "      <td>15.0</td>\n",
       "      <td>21.0</td>\n",
       "      <td>13.0</td>\n",
       "      <td>90.0</td>\n",
       "      <td>85.0</td>\n",
       "      <td>87.0</td>\n",
       "      <td>88.0</td>\n",
       "      <td>94.0</td>\n",
       "      <td>3</td>\n",
       "    </tr>\n",
       "    <tr>\n",
       "      <th>4</th>\n",
       "      <td>27</td>\n",
       "      <td>91</td>\n",
       "      <td>92</td>\n",
       "      <td>2281</td>\n",
       "      <td>4.0</td>\n",
       "      <td>5.0</td>\n",
       "      <td>4.0</td>\n",
       "      <td>7.0</td>\n",
       "      <td>93.0</td>\n",
       "      <td>82.0</td>\n",
       "      <td>...</td>\n",
       "      <td>88.0</td>\n",
       "      <td>68.0</td>\n",
       "      <td>58.0</td>\n",
       "      <td>51.0</td>\n",
       "      <td>15.0</td>\n",
       "      <td>13.0</td>\n",
       "      <td>5.0</td>\n",
       "      <td>10.0</td>\n",
       "      <td>13.0</td>\n",
       "      <td>6</td>\n",
       "    </tr>\n",
       "  </tbody>\n",
       "</table>\n",
       "<p>5 rows × 43 columns</p>\n",
       "</div>"
      ],
      "text/plain": [
       "   Age  Overall  Potential  Special  International Reputation  Weak Foot  \\\n",
       "0   31       94         94     2202                       5.0        4.0   \n",
       "1   33       94         94     2228                       5.0        4.0   \n",
       "2   26       92         93     2143                       5.0        5.0   \n",
       "3   27       91         93     1471                       4.0        3.0   \n",
       "4   27       91         92     2281                       4.0        5.0   \n",
       "\n",
       "   Skill Moves  Jersey Number  Crossing  Finishing  ...  Composure  Marking  \\\n",
       "0          4.0           10.0      84.0       95.0  ...       96.0     33.0   \n",
       "1          5.0            7.0      84.0       94.0  ...       95.0     28.0   \n",
       "2          5.0           10.0      79.0       87.0  ...       94.0     27.0   \n",
       "3          1.0            1.0      17.0       13.0  ...       68.0     15.0   \n",
       "4          4.0            7.0      93.0       82.0  ...       88.0     68.0   \n",
       "\n",
       "   StandingTackle  SlidingTackle  GKDiving  GKHandling  GKKicking  \\\n",
       "0            28.0           26.0       6.0        11.0       15.0   \n",
       "1            31.0           23.0       7.0        11.0       15.0   \n",
       "2            24.0           33.0       9.0         9.0       15.0   \n",
       "3            21.0           13.0      90.0        85.0       87.0   \n",
       "4            58.0           51.0      15.0        13.0        5.0   \n",
       "\n",
       "   GKPositioning  GKReflexes  labels  \n",
       "0           14.0         8.0       6  \n",
       "1           14.0        11.0       6  \n",
       "2           15.0        11.0       6  \n",
       "3           88.0        94.0       3  \n",
       "4           10.0        13.0       6  \n",
       "\n",
       "[5 rows x 43 columns]"
      ]
     },
     "execution_count": 36,
     "metadata": {},
     "output_type": "execute_result"
    }
   ],
   "source": [
    "players.head()"
   ]
  },
  {
   "cell_type": "code",
   "execution_count": 4,
   "metadata": {},
   "outputs": [
    {
     "data": {
      "text/html": [
       "<div>\n",
       "<style scoped>\n",
       "    .dataframe tbody tr th:only-of-type {\n",
       "        vertical-align: middle;\n",
       "    }\n",
       "\n",
       "    .dataframe tbody tr th {\n",
       "        vertical-align: top;\n",
       "    }\n",
       "\n",
       "    .dataframe thead th {\n",
       "        text-align: right;\n",
       "    }\n",
       "</style>\n",
       "<table border=\"1\" class=\"dataframe\">\n",
       "  <thead>\n",
       "    <tr style=\"text-align: right;\">\n",
       "      <th></th>\n",
       "      <th>Unnamed: 0</th>\n",
       "      <th>ID</th>\n",
       "      <th>Name</th>\n",
       "      <th>Age</th>\n",
       "      <th>Photo</th>\n",
       "      <th>Nationality</th>\n",
       "      <th>Flag</th>\n",
       "      <th>Overall</th>\n",
       "      <th>Potential</th>\n",
       "      <th>Club</th>\n",
       "      <th>...</th>\n",
       "      <th>Composure</th>\n",
       "      <th>Marking</th>\n",
       "      <th>StandingTackle</th>\n",
       "      <th>SlidingTackle</th>\n",
       "      <th>GKDiving</th>\n",
       "      <th>GKHandling</th>\n",
       "      <th>GKKicking</th>\n",
       "      <th>GKPositioning</th>\n",
       "      <th>GKReflexes</th>\n",
       "      <th>Release Clause</th>\n",
       "    </tr>\n",
       "  </thead>\n",
       "  <tbody>\n",
       "    <tr>\n",
       "      <th>0</th>\n",
       "      <td>0</td>\n",
       "      <td>158023</td>\n",
       "      <td>L. Messi</td>\n",
       "      <td>31</td>\n",
       "      <td>https://cdn.sofifa.org/players/4/19/158023.png</td>\n",
       "      <td>Argentina</td>\n",
       "      <td>https://cdn.sofifa.org/flags/52.png</td>\n",
       "      <td>94</td>\n",
       "      <td>94</td>\n",
       "      <td>FC Barcelona</td>\n",
       "      <td>...</td>\n",
       "      <td>96.0</td>\n",
       "      <td>33.0</td>\n",
       "      <td>28.0</td>\n",
       "      <td>26.0</td>\n",
       "      <td>6.0</td>\n",
       "      <td>11.0</td>\n",
       "      <td>15.0</td>\n",
       "      <td>14.0</td>\n",
       "      <td>8.0</td>\n",
       "      <td>€226.5M</td>\n",
       "    </tr>\n",
       "    <tr>\n",
       "      <th>1</th>\n",
       "      <td>1</td>\n",
       "      <td>20801</td>\n",
       "      <td>Cristiano Ronaldo</td>\n",
       "      <td>33</td>\n",
       "      <td>https://cdn.sofifa.org/players/4/19/20801.png</td>\n",
       "      <td>Portugal</td>\n",
       "      <td>https://cdn.sofifa.org/flags/38.png</td>\n",
       "      <td>94</td>\n",
       "      <td>94</td>\n",
       "      <td>Juventus</td>\n",
       "      <td>...</td>\n",
       "      <td>95.0</td>\n",
       "      <td>28.0</td>\n",
       "      <td>31.0</td>\n",
       "      <td>23.0</td>\n",
       "      <td>7.0</td>\n",
       "      <td>11.0</td>\n",
       "      <td>15.0</td>\n",
       "      <td>14.0</td>\n",
       "      <td>11.0</td>\n",
       "      <td>€127.1M</td>\n",
       "    </tr>\n",
       "    <tr>\n",
       "      <th>2</th>\n",
       "      <td>2</td>\n",
       "      <td>190871</td>\n",
       "      <td>Neymar Jr</td>\n",
       "      <td>26</td>\n",
       "      <td>https://cdn.sofifa.org/players/4/19/190871.png</td>\n",
       "      <td>Brazil</td>\n",
       "      <td>https://cdn.sofifa.org/flags/54.png</td>\n",
       "      <td>92</td>\n",
       "      <td>93</td>\n",
       "      <td>Paris Saint-Germain</td>\n",
       "      <td>...</td>\n",
       "      <td>94.0</td>\n",
       "      <td>27.0</td>\n",
       "      <td>24.0</td>\n",
       "      <td>33.0</td>\n",
       "      <td>9.0</td>\n",
       "      <td>9.0</td>\n",
       "      <td>15.0</td>\n",
       "      <td>15.0</td>\n",
       "      <td>11.0</td>\n",
       "      <td>€228.1M</td>\n",
       "    </tr>\n",
       "    <tr>\n",
       "      <th>3</th>\n",
       "      <td>3</td>\n",
       "      <td>193080</td>\n",
       "      <td>De Gea</td>\n",
       "      <td>27</td>\n",
       "      <td>https://cdn.sofifa.org/players/4/19/193080.png</td>\n",
       "      <td>Spain</td>\n",
       "      <td>https://cdn.sofifa.org/flags/45.png</td>\n",
       "      <td>91</td>\n",
       "      <td>93</td>\n",
       "      <td>Manchester United</td>\n",
       "      <td>...</td>\n",
       "      <td>68.0</td>\n",
       "      <td>15.0</td>\n",
       "      <td>21.0</td>\n",
       "      <td>13.0</td>\n",
       "      <td>90.0</td>\n",
       "      <td>85.0</td>\n",
       "      <td>87.0</td>\n",
       "      <td>88.0</td>\n",
       "      <td>94.0</td>\n",
       "      <td>€138.6M</td>\n",
       "    </tr>\n",
       "    <tr>\n",
       "      <th>4</th>\n",
       "      <td>4</td>\n",
       "      <td>192985</td>\n",
       "      <td>K. De Bruyne</td>\n",
       "      <td>27</td>\n",
       "      <td>https://cdn.sofifa.org/players/4/19/192985.png</td>\n",
       "      <td>Belgium</td>\n",
       "      <td>https://cdn.sofifa.org/flags/7.png</td>\n",
       "      <td>91</td>\n",
       "      <td>92</td>\n",
       "      <td>Manchester City</td>\n",
       "      <td>...</td>\n",
       "      <td>88.0</td>\n",
       "      <td>68.0</td>\n",
       "      <td>58.0</td>\n",
       "      <td>51.0</td>\n",
       "      <td>15.0</td>\n",
       "      <td>13.0</td>\n",
       "      <td>5.0</td>\n",
       "      <td>10.0</td>\n",
       "      <td>13.0</td>\n",
       "      <td>€196.4M</td>\n",
       "    </tr>\n",
       "  </tbody>\n",
       "</table>\n",
       "<p>5 rows × 89 columns</p>\n",
       "</div>"
      ],
      "text/plain": [
       "   Unnamed: 0      ID               Name  Age  \\\n",
       "0           0  158023           L. Messi   31   \n",
       "1           1   20801  Cristiano Ronaldo   33   \n",
       "2           2  190871          Neymar Jr   26   \n",
       "3           3  193080             De Gea   27   \n",
       "4           4  192985       K. De Bruyne   27   \n",
       "\n",
       "                                            Photo Nationality  \\\n",
       "0  https://cdn.sofifa.org/players/4/19/158023.png   Argentina   \n",
       "1   https://cdn.sofifa.org/players/4/19/20801.png    Portugal   \n",
       "2  https://cdn.sofifa.org/players/4/19/190871.png      Brazil   \n",
       "3  https://cdn.sofifa.org/players/4/19/193080.png       Spain   \n",
       "4  https://cdn.sofifa.org/players/4/19/192985.png     Belgium   \n",
       "\n",
       "                                  Flag  Overall  Potential  \\\n",
       "0  https://cdn.sofifa.org/flags/52.png       94         94   \n",
       "1  https://cdn.sofifa.org/flags/38.png       94         94   \n",
       "2  https://cdn.sofifa.org/flags/54.png       92         93   \n",
       "3  https://cdn.sofifa.org/flags/45.png       91         93   \n",
       "4   https://cdn.sofifa.org/flags/7.png       91         92   \n",
       "\n",
       "                  Club  ... Composure Marking StandingTackle  SlidingTackle  \\\n",
       "0         FC Barcelona  ...      96.0    33.0           28.0           26.0   \n",
       "1             Juventus  ...      95.0    28.0           31.0           23.0   \n",
       "2  Paris Saint-Germain  ...      94.0    27.0           24.0           33.0   \n",
       "3    Manchester United  ...      68.0    15.0           21.0           13.0   \n",
       "4      Manchester City  ...      88.0    68.0           58.0           51.0   \n",
       "\n",
       "  GKDiving  GKHandling  GKKicking  GKPositioning GKReflexes Release Clause  \n",
       "0      6.0        11.0       15.0           14.0        8.0        €226.5M  \n",
       "1      7.0        11.0       15.0           14.0       11.0        €127.1M  \n",
       "2      9.0         9.0       15.0           15.0       11.0        €228.1M  \n",
       "3     90.0        85.0       87.0           88.0       94.0        €138.6M  \n",
       "4     15.0        13.0        5.0           10.0       13.0        €196.4M  \n",
       "\n",
       "[5 rows x 89 columns]"
      ]
     },
     "execution_count": 4,
     "metadata": {},
     "output_type": "execute_result"
    }
   ],
   "source": [
    "players.head()"
   ]
  },
  {
   "cell_type": "code",
   "execution_count": 5,
   "metadata": {},
   "outputs": [
    {
     "data": {
      "text/plain": [
       "Index(['Unnamed: 0', 'ID', 'Name', 'Age', 'Photo', 'Nationality', 'Flag',\n",
       "       'Overall', 'Potential', 'Club', 'Club Logo', 'Value', 'Wage', 'Special',\n",
       "       'Preferred Foot', 'International Reputation', 'Weak Foot',\n",
       "       'Skill Moves', 'Work Rate', 'Body Type', 'Real Face', 'Position',\n",
       "       'Jersey Number', 'Joined', 'Loaned From', 'Contract Valid Until',\n",
       "       'Height', 'Weight', 'LS', 'ST', 'RS', 'LW', 'LF', 'CF', 'RF', 'RW',\n",
       "       'LAM', 'CAM', 'RAM', 'LM', 'LCM', 'CM', 'RCM', 'RM', 'LWB', 'LDM',\n",
       "       'CDM', 'RDM', 'RWB', 'LB', 'LCB', 'CB', 'RCB', 'RB', 'Crossing',\n",
       "       'Finishing', 'HeadingAccuracy', 'ShortPassing', 'Volleys', 'Dribbling',\n",
       "       'Curve', 'FKAccuracy', 'LongPassing', 'BallControl', 'Acceleration',\n",
       "       'SprintSpeed', 'Agility', 'Reactions', 'Balance', 'ShotPower',\n",
       "       'Jumping', 'Stamina', 'Strength', 'LongShots', 'Aggression',\n",
       "       'Interceptions', 'Positioning', 'Vision', 'Penalties', 'Composure',\n",
       "       'Marking', 'StandingTackle', 'SlidingTackle', 'GKDiving', 'GKHandling',\n",
       "       'GKKicking', 'GKPositioning', 'GKReflexes', 'Release Clause'],\n",
       "      dtype='object')"
      ]
     },
     "execution_count": 5,
     "metadata": {},
     "output_type": "execute_result"
    }
   ],
   "source": [
    "players.columns"
   ]
  },
  {
   "cell_type": "code",
   "execution_count": 6,
   "metadata": {},
   "outputs": [
    {
     "data": {
      "text/plain": [
       "Unnamed: 0                    int64\n",
       "ID                            int64\n",
       "Name                         object\n",
       "Age                           int64\n",
       "Photo                        object\n",
       "Nationality                  object\n",
       "Flag                         object\n",
       "Overall                       int64\n",
       "Potential                     int64\n",
       "Club                         object\n",
       "Club Logo                    object\n",
       "Value                        object\n",
       "Wage                         object\n",
       "Special                       int64\n",
       "Preferred Foot               object\n",
       "International Reputation    float64\n",
       "Weak Foot                   float64\n",
       "Skill Moves                 float64\n",
       "Work Rate                    object\n",
       "Body Type                    object\n",
       "Real Face                    object\n",
       "Position                     object\n",
       "Jersey Number               float64\n",
       "Joined                       object\n",
       "Loaned From                  object\n",
       "Contract Valid Until         object\n",
       "Height                       object\n",
       "Weight                       object\n",
       "LS                           object\n",
       "ST                           object\n",
       "                             ...   \n",
       "Dribbling                   float64\n",
       "Curve                       float64\n",
       "FKAccuracy                  float64\n",
       "LongPassing                 float64\n",
       "BallControl                 float64\n",
       "Acceleration                float64\n",
       "SprintSpeed                 float64\n",
       "Agility                     float64\n",
       "Reactions                   float64\n",
       "Balance                     float64\n",
       "ShotPower                   float64\n",
       "Jumping                     float64\n",
       "Stamina                     float64\n",
       "Strength                    float64\n",
       "LongShots                   float64\n",
       "Aggression                  float64\n",
       "Interceptions               float64\n",
       "Positioning                 float64\n",
       "Vision                      float64\n",
       "Penalties                   float64\n",
       "Composure                   float64\n",
       "Marking                     float64\n",
       "StandingTackle              float64\n",
       "SlidingTackle               float64\n",
       "GKDiving                    float64\n",
       "GKHandling                  float64\n",
       "GKKicking                   float64\n",
       "GKPositioning               float64\n",
       "GKReflexes                  float64\n",
       "Release Clause               object\n",
       "Length: 89, dtype: object"
      ]
     },
     "execution_count": 6,
     "metadata": {},
     "output_type": "execute_result"
    }
   ],
   "source": [
    "players.dtypes"
   ]
  },
  {
   "cell_type": "code",
   "execution_count": 7,
   "metadata": {},
   "outputs": [],
   "source": [
    "players.drop(['Contract Valid Until', 'Loaned From', 'Joined','Unnamed: 0', 'Release Clause', 'ID', 'Flag', 'Club Logo', 'LS','ST','RS','LW','LF','CF','RF','RW','LAM','CAM','RAM','LM','LCM','CM',\n",
    "                                     'RCM','RM','LWB','LDM','CDM','RDM','RWB','LB','LCB','CB','RCB','RB'], axis=1, inplace=True)"
   ]
  },
  {
   "cell_type": "code",
   "execution_count": 8,
   "metadata": {},
   "outputs": [
    {
     "data": {
      "text/plain": [
       "(18207, 55)"
      ]
     },
     "execution_count": 8,
     "metadata": {},
     "output_type": "execute_result"
    }
   ],
   "source": [
    "players.shape"
   ]
  },
  {
   "cell_type": "code",
   "execution_count": 9,
   "metadata": {},
   "outputs": [
    {
     "data": {
      "text/plain": [
       "Name                          0\n",
       "Age                           0\n",
       "Photo                         0\n",
       "Nationality                   0\n",
       "Overall                       0\n",
       "Potential                     0\n",
       "Club                        241\n",
       "Value                         0\n",
       "Wage                          0\n",
       "Special                       0\n",
       "Preferred Foot               48\n",
       "International Reputation     48\n",
       "Weak Foot                    48\n",
       "Skill Moves                  48\n",
       "Work Rate                    48\n",
       "Body Type                    48\n",
       "Real Face                    48\n",
       "Position                     60\n",
       "Jersey Number                60\n",
       "Height                       48\n",
       "Weight                       48\n",
       "Crossing                     48\n",
       "Finishing                    48\n",
       "HeadingAccuracy              48\n",
       "ShortPassing                 48\n",
       "Volleys                      48\n",
       "Dribbling                    48\n",
       "Curve                        48\n",
       "FKAccuracy                   48\n",
       "LongPassing                  48\n",
       "BallControl                  48\n",
       "Acceleration                 48\n",
       "SprintSpeed                  48\n",
       "Agility                      48\n",
       "Reactions                    48\n",
       "Balance                      48\n",
       "ShotPower                    48\n",
       "Jumping                      48\n",
       "Stamina                      48\n",
       "Strength                     48\n",
       "LongShots                    48\n",
       "Aggression                   48\n",
       "Interceptions                48\n",
       "Positioning                  48\n",
       "Vision                       48\n",
       "Penalties                    48\n",
       "Composure                    48\n",
       "Marking                      48\n",
       "StandingTackle               48\n",
       "SlidingTackle                48\n",
       "GKDiving                     48\n",
       "GKHandling                   48\n",
       "GKKicking                    48\n",
       "GKPositioning                48\n",
       "GKReflexes                   48\n",
       "dtype: int64"
      ]
     },
     "execution_count": 9,
     "metadata": {},
     "output_type": "execute_result"
    }
   ],
   "source": [
    "#Check missing values \n",
    "players.isnull().sum()"
   ]
  },
  {
   "cell_type": "code",
   "execution_count": 10,
   "metadata": {},
   "outputs": [
    {
     "name": "stdout",
     "output_type": "stream",
     "text": [
      "<class 'pandas.core.frame.DataFrame'>\n",
      "Int64Index: 17918 entries, 0 to 18206\n",
      "Data columns (total 55 columns):\n",
      "Name                        17918 non-null object\n",
      "Age                         17918 non-null int64\n",
      "Photo                       17918 non-null object\n",
      "Nationality                 17918 non-null object\n",
      "Overall                     17918 non-null int64\n",
      "Potential                   17918 non-null int64\n",
      "Club                        17918 non-null object\n",
      "Value                       17918 non-null object\n",
      "Wage                        17918 non-null object\n",
      "Special                     17918 non-null int64\n",
      "Preferred Foot              17918 non-null object\n",
      "International Reputation    17918 non-null float64\n",
      "Weak Foot                   17918 non-null float64\n",
      "Skill Moves                 17918 non-null float64\n",
      "Work Rate                   17918 non-null object\n",
      "Body Type                   17918 non-null object\n",
      "Real Face                   17918 non-null object\n",
      "Position                    17918 non-null object\n",
      "Jersey Number               17918 non-null float64\n",
      "Height                      17918 non-null object\n",
      "Weight                      17918 non-null object\n",
      "Crossing                    17918 non-null float64\n",
      "Finishing                   17918 non-null float64\n",
      "HeadingAccuracy             17918 non-null float64\n",
      "ShortPassing                17918 non-null float64\n",
      "Volleys                     17918 non-null float64\n",
      "Dribbling                   17918 non-null float64\n",
      "Curve                       17918 non-null float64\n",
      "FKAccuracy                  17918 non-null float64\n",
      "LongPassing                 17918 non-null float64\n",
      "BallControl                 17918 non-null float64\n",
      "Acceleration                17918 non-null float64\n",
      "SprintSpeed                 17918 non-null float64\n",
      "Agility                     17918 non-null float64\n",
      "Reactions                   17918 non-null float64\n",
      "Balance                     17918 non-null float64\n",
      "ShotPower                   17918 non-null float64\n",
      "Jumping                     17918 non-null float64\n",
      "Stamina                     17918 non-null float64\n",
      "Strength                    17918 non-null float64\n",
      "LongShots                   17918 non-null float64\n",
      "Aggression                  17918 non-null float64\n",
      "Interceptions               17918 non-null float64\n",
      "Positioning                 17918 non-null float64\n",
      "Vision                      17918 non-null float64\n",
      "Penalties                   17918 non-null float64\n",
      "Composure                   17918 non-null float64\n",
      "Marking                     17918 non-null float64\n",
      "StandingTackle              17918 non-null float64\n",
      "SlidingTackle               17918 non-null float64\n",
      "GKDiving                    17918 non-null float64\n",
      "GKHandling                  17918 non-null float64\n",
      "GKKicking                   17918 non-null float64\n",
      "GKPositioning               17918 non-null float64\n",
      "GKReflexes                  17918 non-null float64\n",
      "dtypes: float64(38), int64(4), object(13)\n",
      "memory usage: 7.7+ MB\n"
     ]
    }
   ],
   "source": [
    "players = players.dropna(axis = 0, how = 'any')\n",
    "players.info()"
   ]
  },
  {
   "cell_type": "code",
   "execution_count": 11,
   "metadata": {},
   "outputs": [],
   "source": [
    "#players[players['International Reputation']==5]"
   ]
  },
  {
   "cell_type": "code",
   "execution_count": 12,
   "metadata": {},
   "outputs": [
    {
     "name": "stdout",
     "output_type": "stream",
     "text": [
      "0    €110.5M\n",
      "1       €77M\n",
      "2    €118.5M\n",
      "3       €72M\n",
      "4      €102M\n",
      "Name: Value, dtype: object\n",
      "0    €565K\n",
      "1    €405K\n",
      "2    €290K\n",
      "3    €260K\n",
      "4    €355K\n",
      "Name: Wage, dtype: object\n"
     ]
    }
   ],
   "source": [
    "print(players['Value'].head())\n",
    "print(players['Wage'].head())"
   ]
  },
  {
   "cell_type": "code",
   "execution_count": 13,
   "metadata": {},
   "outputs": [],
   "source": [
    "def extract_value_from(Value):\n",
    "    out = Value.replace('€', '')\n",
    "    if 'M' in out:\n",
    "        out = float(out.replace('M', ''))*1000000\n",
    "    elif 'K' in Value:\n",
    "        out = float(out.replace('K', ''))*1000\n",
    "    return float(out)"
   ]
  },
  {
   "cell_type": "code",
   "execution_count": 14,
   "metadata": {},
   "outputs": [],
   "source": [
    "players['Value'] = players.Value.apply(lambda x: extract_value_from(x))"
   ]
  },
  {
   "cell_type": "code",
   "execution_count": 15,
   "metadata": {},
   "outputs": [],
   "source": [
    "players['Wage'] = players.Wage.apply(lambda x: extract_value_from(x))"
   ]
  },
  {
   "cell_type": "code",
   "execution_count": 16,
   "metadata": {},
   "outputs": [
    {
     "data": {
      "text/plain": [
       "0    110500000.0\n",
       "1     77000000.0\n",
       "2    118500000.0\n",
       "3     72000000.0\n",
       "4    102000000.0\n",
       "Name: Value, dtype: float64"
      ]
     },
     "execution_count": 16,
     "metadata": {},
     "output_type": "execute_result"
    }
   ],
   "source": [
    "players['Value'].head()"
   ]
  },
  {
   "cell_type": "code",
   "execution_count": 17,
   "metadata": {},
   "outputs": [
    {
     "data": {
      "text/plain": [
       "<matplotlib.axes._subplots.AxesSubplot at 0x108e91630>"
      ]
     },
     "execution_count": 17,
     "metadata": {},
     "output_type": "execute_result"
    },
    {
     "data": {
      "image/png": "[encoded data removed]",
      "text/plain": [
       "<Figure size 432x288 with 2 Axes>"
      ]
     },
     "metadata": {
      "needs_background": "light"
     },
     "output_type": "display_data"
    }
   ],
   "source": [
    "import seaborn as sns\n",
    "\n",
    "sns.heatmap(players.corr())"
   ]
  },
  {
   "cell_type": "code",
   "execution_count": 18,
   "metadata": {},
   "outputs": [
    {
     "data": {
      "text/plain": [
       "array([[<matplotlib.axes._subplots.AxesSubplot object at 0x1a1bf90b70>,\n",
       "        <matplotlib.axes._subplots.AxesSubplot object at 0x1a1c0b6518>,\n",
       "        <matplotlib.axes._subplots.AxesSubplot object at 0x1a1bfe2a90>,\n",
       "        <matplotlib.axes._subplots.AxesSubplot object at 0x1a1c0d0048>,\n",
       "        <matplotlib.axes._subplots.AxesSubplot object at 0x1a1c0f85c0>,\n",
       "        <matplotlib.axes._subplots.AxesSubplot object at 0x1a1c121b38>,\n",
       "        <matplotlib.axes._subplots.AxesSubplot object at 0x1a1c1510f0>],\n",
       "       [<matplotlib.axes._subplots.AxesSubplot object at 0x1a1c1776a0>,\n",
       "        <matplotlib.axes._subplots.AxesSubplot object at 0x1a1c1776d8>,\n",
       "        <matplotlib.axes._subplots.AxesSubplot object at 0x1a1c1d0198>,\n",
       "        <matplotlib.axes._subplots.AxesSubplot object at 0x1a1c1f7710>,\n",
       "        <matplotlib.axes._subplots.AxesSubplot object at 0x1a1c222c88>,\n",
       "        <matplotlib.axes._subplots.AxesSubplot object at 0x1a1c253240>,\n",
       "        <matplotlib.axes._subplots.AxesSubplot object at 0x1a1c27b7b8>],\n",
       "       [<matplotlib.axes._subplots.AxesSubplot object at 0x1a1c2a2d30>,\n",
       "        <matplotlib.axes._subplots.AxesSubplot object at 0x1a1c2d52e8>,\n",
       "        <matplotlib.axes._subplots.AxesSubplot object at 0x1a1c2fb860>,\n",
       "        <matplotlib.axes._subplots.AxesSubplot object at 0x1a1c322dd8>,\n",
       "        <matplotlib.axes._subplots.AxesSubplot object at 0x1a1c40f390>,\n",
       "        <matplotlib.axes._subplots.AxesSubplot object at 0x1a1c435908>,\n",
       "        <matplotlib.axes._subplots.AxesSubplot object at 0x1a1c45de80>],\n",
       "       [<matplotlib.axes._subplots.AxesSubplot object at 0x1a1cb72438>,\n",
       "        <matplotlib.axes._subplots.AxesSubplot object at 0x1a1cb9a9b0>,\n",
       "        <matplotlib.axes._subplots.AxesSubplot object at 0x1a1cbc2f28>,\n",
       "        <matplotlib.axes._subplots.AxesSubplot object at 0x1a1cbf34e0>,\n",
       "        <matplotlib.axes._subplots.AxesSubplot object at 0x1a1cd46a58>,\n",
       "        <matplotlib.axes._subplots.AxesSubplot object at 0x1a1cd6efd0>,\n",
       "        <matplotlib.axes._subplots.AxesSubplot object at 0x1a1cd9e588>],\n",
       "       [<matplotlib.axes._subplots.AxesSubplot object at 0x1a1cdc7b00>,\n",
       "        <matplotlib.axes._subplots.AxesSubplot object at 0x1a1cdf60b8>,\n",
       "        <matplotlib.axes._subplots.AxesSubplot object at 0x1a1d019630>,\n",
       "        <matplotlib.axes._subplots.AxesSubplot object at 0x1a1d043ba8>,\n",
       "        <matplotlib.axes._subplots.AxesSubplot object at 0x1a1d075160>,\n",
       "        <matplotlib.axes._subplots.AxesSubplot object at 0x1a1d11f6d8>,\n",
       "        <matplotlib.axes._subplots.AxesSubplot object at 0x1a1d14ac50>],\n",
       "       [<matplotlib.axes._subplots.AxesSubplot object at 0x1a1d178208>,\n",
       "        <matplotlib.axes._subplots.AxesSubplot object at 0x1a1d1a0780>,\n",
       "        <matplotlib.axes._subplots.AxesSubplot object at 0x1a1d1c9cf8>,\n",
       "        <matplotlib.axes._subplots.AxesSubplot object at 0x1a1d1fa2b0>,\n",
       "        <matplotlib.axes._subplots.AxesSubplot object at 0x1a1d271828>,\n",
       "        <matplotlib.axes._subplots.AxesSubplot object at 0x1a1d29ada0>,\n",
       "        <matplotlib.axes._subplots.AxesSubplot object at 0x1a1d2cb358>],\n",
       "       [<matplotlib.axes._subplots.AxesSubplot object at 0x1a1d2f48d0>,\n",
       "        <matplotlib.axes._subplots.AxesSubplot object at 0x1a1d31be48>,\n",
       "        <matplotlib.axes._subplots.AxesSubplot object at 0x1a1d34e400>,\n",
       "        <matplotlib.axes._subplots.AxesSubplot object at 0x1a1d375978>,\n",
       "        <matplotlib.axes._subplots.AxesSubplot object at 0x1a1d39bef0>,\n",
       "        <matplotlib.axes._subplots.AxesSubplot object at 0x1a1d3ce4a8>,\n",
       "        <matplotlib.axes._subplots.AxesSubplot object at 0x1a1d413a20>]],\n",
       "      dtype=object)"
      ]
     },
     "execution_count": 18,
     "metadata": {},
     "output_type": "execute_result"
    },
    {
     "data": {
      "image/png": "[encoded data removed]",
      "text/plain": [
       "<Figure size 1440x1440 with 49 Axes>"
      ]
     },
     "metadata": {
      "needs_background": "light"
     },
     "output_type": "display_data"
    }
   ],
   "source": [
    "players.hist(figsize=(20,20))"
   ]
  },
  {
   "cell_type": "code",
   "execution_count": 19,
   "metadata": {},
   "outputs": [],
   "source": [
    "#players['Special']"
   ]
  },
  {
   "cell_type": "code",
   "execution_count": 20,
   "metadata": {},
   "outputs": [
    {
     "data": {
      "text/plain": [
       "array(['RF', 'ST', 'LW', 'GK', 'RCM', 'LF', 'RS', 'RCB', 'LCM', 'CB',\n",
       "       'LDM', 'CAM', 'CDM', 'LS', 'LCB', 'RM', 'LAM', 'LM', 'LB', 'RDM',\n",
       "       'RW', 'CM', 'RB', 'RAM', 'CF', 'RWB', 'LWB'], dtype=object)"
      ]
     },
     "execution_count": 20,
     "metadata": {},
     "output_type": "execute_result"
    }
   ],
   "source": [
    "players['Position'].unique()"
   ]
  },
  {
   "cell_type": "code",
   "execution_count": 23,
   "metadata": {},
   "outputs": [
    {
     "name": "stdout",
     "output_type": "stream",
     "text": [
      "<class 'pandas.core.frame.DataFrame'>\n",
      "Int64Index: 17918 entries, 0 to 18206\n",
      "Data columns (total 55 columns):\n",
      "Name                        17918 non-null object\n",
      "Age                         17918 non-null int64\n",
      "Photo                       17918 non-null object\n",
      "Nationality                 17918 non-null object\n",
      "Overall                     17918 non-null int64\n",
      "Potential                   17918 non-null int64\n",
      "Club                        17918 non-null object\n",
      "Value                       17918 non-null float64\n",
      "Wage                        17918 non-null float64\n",
      "Special                     17918 non-null int64\n",
      "Preferred Foot              17918 non-null object\n",
      "International Reputation    17918 non-null float64\n",
      "Weak Foot                   17918 non-null float64\n",
      "Skill Moves                 17918 non-null float64\n",
      "Work Rate                   17918 non-null object\n",
      "Body Type                   17918 non-null object\n",
      "Real Face                   17918 non-null object\n",
      "Position                    17918 non-null object\n",
      "Jersey Number               17918 non-null float64\n",
      "Height                      17918 non-null object\n",
      "Weight                      17918 non-null object\n",
      "Crossing                    17918 non-null float64\n",
      "Finishing                   17918 non-null float64\n",
      "HeadingAccuracy             17918 non-null float64\n",
      "ShortPassing                17918 non-null float64\n",
      "Volleys                     17918 non-null float64\n",
      "Dribbling                   17918 non-null float64\n",
      "Curve                       17918 non-null float64\n",
      "FKAccuracy                  17918 non-null float64\n",
      "LongPassing                 17918 non-null float64\n",
      "BallControl                 17918 non-null float64\n",
      "Acceleration                17918 non-null float64\n",
      "SprintSpeed                 17918 non-null float64\n",
      "Agility                     17918 non-null float64\n",
      "Reactions                   17918 non-null float64\n",
      "Balance                     17918 non-null float64\n",
      "ShotPower                   17918 non-null float64\n",
      "Jumping                     17918 non-null float64\n",
      "Stamina                     17918 non-null float64\n",
      "Strength                    17918 non-null float64\n",
      "LongShots                   17918 non-null float64\n",
      "Aggression                  17918 non-null float64\n",
      "Interceptions               17918 non-null float64\n",
      "Positioning                 17918 non-null float64\n",
      "Vision                      17918 non-null float64\n",
      "Penalties                   17918 non-null float64\n",
      "Composure                   17918 non-null float64\n",
      "Marking                     17918 non-null float64\n",
      "StandingTackle              17918 non-null float64\n",
      "SlidingTackle               17918 non-null float64\n",
      "GKDiving                    17918 non-null float64\n",
      "GKHandling                  17918 non-null float64\n",
      "GKKicking                   17918 non-null float64\n",
      "GKPositioning               17918 non-null float64\n",
      "GKReflexes                  17918 non-null float64\n",
      "dtypes: float64(40), int64(4), object(11)\n",
      "memory usage: 7.7+ MB\n"
     ]
    }
   ],
   "source": [
    "players.info()"
   ]
  },
  {
   "cell_type": "code",
   "execution_count": 25,
   "metadata": {},
   "outputs": [],
   "source": [
    "#Select only numeric variables\n",
    "players.drop(['Height', 'Weight', 'Name', 'Photo', 'Nationality',\n",
    "              'Club', 'Preferred Foot', 'Work Rate', 'Body Type', 'Position', 'Height', 'Weight'], axis=1, inplace=True)\n",
    "              "
   ]
  },
  {
   "cell_type": "code",
   "execution_count": 28,
   "metadata": {},
   "outputs": [],
   "source": [
    "players.drop(['Real Face'], axis=1, inplace=True)"
   ]
  },
  {
   "cell_type": "code",
   "execution_count": 33,
   "metadata": {},
   "outputs": [],
   "source": [
    "players.drop(['Wage', 'Value'], axis=1, inplace=True)"
   ]
  },
  {
   "cell_type": "code",
   "execution_count": 34,
   "metadata": {},
   "outputs": [
    {
     "name": "stderr",
     "output_type": "stream",
     "text": [
      "/Users/floratalavera/anaconda3/lib/python3.7/site-packages/sklearn/preprocessing/data.py:645: DataConversionWarning: Data with input dtype int32, int64, float64 were all converted to float64 by StandardScaler.\n",
      "  return self.partial_fit(X, y)\n",
      "/Users/floratalavera/anaconda3/lib/python3.7/site-packages/ipykernel_launcher.py:5: DataConversionWarning: Data with input dtype int32, int64, float64 were all converted to float64 by StandardScaler.\n",
      "  \"\"\"\n"
     ]
    }
   ],
   "source": [
    "#We scale the data\n",
    "from sklearn.preprocessing import StandardScaler\n",
    "\n",
    "stscaler = StandardScaler().fit(players)\n",
    "players_scale = stscaler.transform(players)"
   ]
  },
  {
   "cell_type": "code",
   "execution_count": 35,
   "metadata": {},
   "outputs": [
    {
     "ename": "NameError",
     "evalue": "name 'X' is not defined",
     "output_type": "error",
     "traceback": [
      "\u001b[0;31m---------------------------------------------------------------------------\u001b[0m",
      "\u001b[0;31mNameError\u001b[0m                                 Traceback (most recent call last)",
      "\u001b[0;32m<ipython-input-35-0a0d4b440e36>\u001b[0m in \u001b[0;36m<module>\u001b[0;34m\u001b[0m\n\u001b[1;32m      6\u001b[0m \u001b[0mplayers_clusters\u001b[0m \u001b[0;34m=\u001b[0m \u001b[0mkmeans\u001b[0m\u001b[0;34m.\u001b[0m\u001b[0mfit\u001b[0m\u001b[0;34m(\u001b[0m\u001b[0mplayers\u001b[0m\u001b[0;34m)\u001b[0m\u001b[0;34m\u001b[0m\u001b[0;34m\u001b[0m\u001b[0m\n\u001b[1;32m      7\u001b[0m \u001b[0mplayers_clusters\u001b[0m\u001b[0;34m.\u001b[0m\u001b[0mcluster_centers_\u001b[0m\u001b[0;34m\u001b[0m\u001b[0;34m\u001b[0m\u001b[0m\n\u001b[0;32m----> 8\u001b[0;31m \u001b[0mprint\u001b[0m\u001b[0;34m(\u001b[0m\u001b[0;34m'Silhouette Score for 5 clusters:'\u001b[0m\u001b[0;34m,\u001b[0m \u001b[0;34m(\u001b[0m\u001b[0msilhouette_score\u001b[0m\u001b[0;34m(\u001b[0m\u001b[0mX\u001b[0m\u001b[0;34m,\u001b[0m \u001b[0mkmeans\u001b[0m\u001b[0;34m.\u001b[0m\u001b[0mpredict\u001b[0m\u001b[0;34m(\u001b[0m\u001b[0mX\u001b[0m\u001b[0;34m)\u001b[0m\u001b[0;34m)\u001b[0m\u001b[0;34m)\u001b[0m\u001b[0;34m)\u001b[0m\u001b[0;34m\u001b[0m\u001b[0;34m\u001b[0m\u001b[0m\n\u001b[0m\u001b[1;32m      9\u001b[0m \u001b[0;31m#Run K-Means using, looping through a number of cluster centres to find the optimal number (k). This can be done visually, where the elbow of the plot “bends”.\u001b[0m\u001b[0;34m\u001b[0m\u001b[0;34m\u001b[0m\u001b[0;34m\u001b[0m\u001b[0m\n\u001b[1;32m     10\u001b[0m \u001b[0;31m#Set the number of centres (8 in this example)\u001b[0m\u001b[0;34m\u001b[0m\u001b[0;34m\u001b[0m\u001b[0;34m\u001b[0m\u001b[0m\n",
      "\u001b[0;31mNameError\u001b[0m: name 'X' is not defined"
     ]
    }
   ],
   "source": [
    "from sklearn.cluster import KMeans\n",
    "from yellowbrick.cluster import KElbowVisualizer\n",
    "from sklearn.metrics import silhouette_score\n",
    "\n",
    "kmeans = KMeans(n_clusters=5)\n",
    "players_clusters = kmeans.fit(players)\n",
    "players_clusters.cluster_centers_\n",
    "print('Silhouette Score for 5 clusters:', (silhouette_score(X, kmeans.predict(X))))\n",
    "\n",
    "#Run K-Means using, looping through a number of cluster centres to find the optimal number (k). This can be done visually, where the elbow of the plot “bends”.\n",
    "#Set the number of centres (8 in this example)\n",
    "#Re-run the model with K = 8\n",
    "#Assign the cluster group back to the main data\n",
    "\n"
   ]
  },
  {
   "cell_type": "code",
   "execution_count": null,
   "metadata": {},
   "outputs": [],
   "source": [
    "model = KMeans()\n",
    "visualizer = KElbowVisualizer(model, k=(4,9))\n",
    "visualizer.fit(players_encoded)\n",
    "visualizer.poof()"
   ]
  }
 ],
 "metadata": {
  "kernelspec": {
   "display_name": "Python 3",
   "language": "python",
   "name": "python3"
  },
  "language_info": {
   "codemirror_mode": {
    "name": "ipython",
    "version": 3
   },
   "file_extension": ".py",
   "mimetype": "text/x-python",
   "name": "python",
   "nbconvert_exporter": "python",
   "pygments_lexer": "ipython3",
   "version": "3.7.3"
  }
 },
 "nbformat": 4,
 "nbformat_minor": 2
}
