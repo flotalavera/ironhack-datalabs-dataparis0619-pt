{
 "cells": [
  {
   "cell_type": "markdown",
   "metadata": {},
   "source": [
    "# String Operations Lab\n",
    "\n",
    "**Before your start:**\n",
    "\n",
    "- Read the README.md file\n",
    "- Comment as much as you can and use the resources in the README.md file\n",
    "- Happy learning!"
   ]
  },
  {
   "cell_type": "code",
   "execution_count": 20,
   "metadata": {},
   "outputs": [],
   "source": [
    "import re"
   ]
  },
  {
   "cell_type": "markdown",
   "metadata": {},
   "source": [
    "# Challenge 1 - Combining Strings\n",
    "\n",
    "Combining strings is an important skill to acquire. There are multiple ways of combining strings in Python, as well as combining strings with variables. We will explore this in the first challenge. In the cell below, combine the strings in the list and add spaces between the strings (do not add a space after the last string). Insert a period after the last string."
   ]
  },
  {
   "cell_type": "code",
   "execution_count": 40,
   "metadata": {},
   "outputs": [
    {
     "data": {
      "text/plain": [
       "'Durante un tiempo no estuvo segura de si su marido era su marido.'"
      ]
     },
     "execution_count": 40,
     "metadata": {},
     "output_type": "execute_result"
    }
   ],
   "source": [
    "str_list = ['Durante', 'un', 'tiempo', 'no', 'estuvo', 'segura', 'de', 'si', 'su', 'marido', 'era', 'su', 'marido']\n",
    "# Your code here:\n",
    "\n",
    "#combine the strings\n",
    "' '.join(str_list) + '.'\n",
    "#str_list.append(5)\n",
    "#str_list.append(\"meses\")\n",
    "#print(str_list)"
   ]
  },
  {
   "cell_type": "markdown",
   "metadata": {},
   "source": [
    "In the cell below, use the list of strings to create a grocery list. Start the list with the string `Grocery list: ` and include a comma and a space between each item except for the last one. Include a period at the end. Only include foods in the list that start with the letter 'b' and ensure all foods are lower case."
   ]
  },
  {
   "cell_type": "code",
   "execution_count": 57,
   "metadata": {
    "scrolled": true
   },
   "outputs": [
    {
     "name": "stdout",
     "output_type": "stream",
     "text": [
      "['bananas', 'bread', 'brownie mix', 'broccoli']\n"
     ]
    },
    {
     "data": {
      "text/plain": [
       "'Grocery list: bananas, bread, brownie mix, broccoli.'"
      ]
     },
     "execution_count": 57,
     "metadata": {},
     "output_type": "execute_result"
    }
   ],
   "source": [
    "food_list = ['Bananas', 'Chocolate', 'bread', 'diapers', 'Ice Cream', 'Brownie Mix', 'broccoli']\n",
    "# Your code here:\n",
    "\n",
    "#grocery_list = [\"Grocery list:\"]\n",
    "#print(grocery_list)\n",
    "#final_list = [grocery_list, food_list]\n",
    "\n",
    "\"Grocery list: \" + ', '.join(food_list) + \".\"\n",
    "\n",
    "food_list_lower = [x.lower() for x in food_list]\n",
    "\n",
    "\n",
    "food_list_2 = []\n",
    "for food in food_list_lower:\n",
    "    if food.startswith('b'):\n",
    "        food_list_2.append(food)\n",
    "print(food_list_2)\n",
    "\n",
    "\"Grocery list: \" + ', '.join(food_list_2) + \".\"\n",
    "\n",
    "#print(d.rstrip())"
   ]
  },
  {
   "cell_type": "markdown",
   "metadata": {},
   "source": [
    "In the cell below, write a function that computes the area of a circle using its radius. Compute the area of the circle and insert the radius and the area between the two strings. Make sure to include spaces between the variable and the strings. \n",
    "\n",
    "Note: You can use the techniques we have learned so far or use f-strings. F-strings allow us to embed code inside strings. You can read more about f-strings [here](https://www.python.org/dev/peps/pep-0498/)."
   ]
  },
  {
   "cell_type": "code",
   "execution_count": 67,
   "metadata": {},
   "outputs": [
    {
     "name": "stdout",
     "output_type": "stream",
     "text": [
      "The area of the circle with radius: 4.5 is: 63.61725123519331\n"
     ]
    }
   ],
   "source": [
    "import math\n",
    "\n",
    "string1 = \"The area of the circle with radius:\"\n",
    "string2  = \"is:\"\n",
    "radius = 4.5\n",
    "\n",
    "def area(radius, pi = math.pi):\n",
    "    area = math.pi * radius ** 2\n",
    "    return area\n",
    "area(radius, pi = math.pi)\n",
    "\n",
    "\n",
    "print(f'{string1} {radius} {string2} {area(radius)}')\n",
    "\n",
    "    \n",
    "    # This function takes a radius and returns the area of a circle. We also pass a default value for pi.\n",
    "    # Input: Float (and default value for pi)\n",
    "    # Output: Float\n",
    "    \n",
    "    # Sample input: 5.0\n",
    "    # Sample Output: 78.53981633\n",
    "    \n",
    "    # Your code here:\n",
    "    \n",
    "    \n",
    "# Your output string here:"
   ]
  },
  {
   "cell_type": "markdown",
   "metadata": {},
   "source": [
    "# Challenge 2 - Splitting Strings\n",
    "\n",
    "We have first looked at combining strings into one long string. There are times where we need to do the opposite and split the string into smaller components for further analysis. \n",
    "\n",
    "In the cell below, split the string into a list of strings using the space delimiter. Count the frequency of each word in the string in a dictionary. Strip the periods, line breaks and commas from the text. Make sure to remove empty strings from your dictionary."
   ]
  },
  {
   "cell_type": "markdown",
   "metadata": {},
   "source": [
    "In the cell below, find all the words that appear in the text and do not appear in the blacklist. You must parse the string but can choose any data structure you wish for the words that do not appear in the blacklist. Remove all non letter characters and convert all words to lower case."
   ]
  },
  {
   "cell_type": "code",
   "execution_count": 116,
   "metadata": {},
   "outputs": [
    {
     "name": "stdout",
     "output_type": "stream",
     "text": [
      "{'of', 'From', 'desire', 'favor', 'those', 'perish', 'that', 'know', 'fire.', 'hold', 'in', 'great', 'also', 'it', 'ice', 'And', 'I’ve', 'destruction', 'the', 'if', 'who', 'end', 'twice,', 'But', 'to', 'say', 'tasted', 'I', 'think', 'for', 'would', 'suffice.', 'will', 'what', 'fire,', 'hate', 'enough', 'ice.', 'Some', 'Is', 'had', 'world', 'To', 'with'}\n",
      "Frequency of of is 2\n",
      "Frequency of From is 1\n",
      "Frequency of desire is 1\n",
      "Frequency of favor is 1\n",
      "Frequency of those is 1\n",
      "Frequency of perish is 1\n",
      "Frequency of that is 1\n",
      "Frequency of know is 1\n",
      "Frequency of fire. is 1\n",
      "Frequency of hold is 1\n",
      "Frequency of in is 2\n",
      "Frequency of great is 1\n",
      "Frequency of also is 1\n",
      "Frequency of it is 1\n",
      "Frequency of ice is 1\n",
      "Frequency of And is 1\n",
      "Frequency of I’ve is 1\n",
      "Frequency of destruction is 1\n",
      "Frequency of the is 1\n",
      "Frequency of if is 1\n",
      "Frequency of who is 1\n",
      "Frequency of end is 1\n",
      "Frequency of twice, is 1\n",
      "Frequency of But is 1\n",
      "Frequency of to is 1\n",
      "Frequency of say is 3\n",
      "Frequency of tasted is 1\n",
      "Frequency of I is 3\n",
      "Frequency of think is 1\n",
      "Frequency of for is 1\n",
      "Frequency of would is 1\n",
      "Frequency of suffice. is 1\n",
      "Frequency of will is 1\n",
      "Frequency of what is 1\n",
      "Frequency of fire, is 1\n",
      "Frequency of hate is 1\n",
      "Frequency of enough is 1\n",
      "Frequency of ice. is 1\n",
      "Frequency of Some is 2\n",
      "Frequency of Is is 1\n",
      "Frequency of had is 1\n",
      "Frequency of world is 1\n",
      "Frequency of To is 1\n",
      "Frequency of with is 1\n",
      "{'of': 2, 'From': 1, 'desire': 1, 'favor': 1, 'those': 1, 'perish': 1, 'that': 1, 'know': 1, 'fire.': 1, 'hold': 1, 'in': 2, 'great': 1, 'also': 1, 'it': 1, 'ice': 1, 'And': 1, 'I’ve': 1, 'destruction': 1, 'the': 1, 'if': 1, 'who': 1, 'end': 1, 'twice,': 1, 'But': 1, 'to': 1, 'say': 3, 'tasted': 1, 'I': 3, 'think': 1, 'for': 1, 'would': 1, 'suffice.': 1, 'will': 1, 'what': 1, 'fire,': 1, 'hate': 1, 'enough': 1, 'ice.': 1, 'Some': 2, 'Is': 1, 'had': 1, 'world': 1, 'To': 1, 'with': 1}\n",
      "Some say the world will end in fire  Some say in ice  From what I’ve tasted of desire I hold with those who favor fire  But if it had to perish twice  I think I know enough of hate To say that for destruction ice Is also great And would suffice \n"
     ]
    }
   ],
   "source": [
    "poem = \"\"\"Some say the world will end in fire,\n",
    "Some say in ice.\n",
    "From what I’ve tasted of desire\n",
    "I hold with those who favor fire.\n",
    "But if it had to perish twice,\n",
    "I think I know enough of hate\n",
    "To say that for destruction ice\n",
    "Is also great\n",
    "And would suffice.\"\"\"\n",
    "\n",
    "# Your code here:\n",
    "#print(poem.split( ))\n",
    "poem_strings = (poem.split())\n",
    "\n",
    "poem_words = set(poem_strings)\n",
    "print(poem_words)\n",
    "\n",
    "d_poem = {}\n",
    "for words in poem_words:\n",
    "    print(\"Frequency of\", words, \"is\", poem_strings.count(words))\n",
    "    d_poem[words] = poem_strings.count(words)\n",
    "print(d_poem) \n",
    "\n",
    "print(poem.replace(\",\", \" \").replace(\".\", \" \").replace(\"\\n\", \" \"))\n"
   ]
  },
  {
   "cell_type": "code",
   "execution_count": 118,
   "metadata": {},
   "outputs": [
    {
     "name": "stdout",
     "output_type": "stream",
     "text": [
      "Some say the world will end in fire  Some say in ice  From what I’ve tasted of desire I hold with those who favor fire  But if it had to perish twice  I think I know enough of hate To say that for destruction ice Is also great And would suffice \n",
      "['Some', 'say', 'the', 'world', 'will', 'end', 'in', 'fire', 'Some', 'say', 'in', 'ice', 'From', 'what', 'I’ve', 'tasted', 'of', 'desire', 'I', 'hold', 'with', 'those', 'who', 'favor', 'fire', 'But', 'if', 'it', 'had', 'to', 'perish', 'twice', 'I', 'think', 'I', 'know', 'enough', 'of', 'hate', 'To', 'say', 'that', 'for', 'destruction', 'ice', 'Is', 'also', 'great', 'And', 'would', 'suffice']\n",
      "Frequency of of is 2\n",
      "Frequency of From is 1\n",
      "Frequency of desire is 1\n",
      "Frequency of favor is 1\n",
      "Frequency of those is 1\n",
      "Frequency of perish is 1\n",
      "Frequency of that is 1\n",
      "Frequency of know is 1\n",
      "Frequency of fire. is 0\n",
      "Frequency of hold is 1\n",
      "Frequency of in is 2\n",
      "Frequency of great is 1\n",
      "Frequency of also is 1\n",
      "Frequency of it is 1\n",
      "Frequency of ice is 2\n",
      "Frequency of And is 1\n",
      "Frequency of I’ve is 1\n",
      "Frequency of destruction is 1\n",
      "Frequency of the is 1\n",
      "Frequency of if is 1\n",
      "Frequency of who is 1\n",
      "Frequency of end is 1\n",
      "Frequency of twice, is 0\n",
      "Frequency of But is 1\n",
      "Frequency of to is 1\n",
      "Frequency of say is 3\n",
      "Frequency of tasted is 1\n",
      "Frequency of I is 3\n",
      "Frequency of think is 1\n",
      "Frequency of for is 1\n",
      "Frequency of would is 1\n",
      "Frequency of suffice. is 0\n",
      "Frequency of will is 1\n",
      "Frequency of what is 1\n",
      "Frequency of fire, is 0\n",
      "Frequency of hate is 1\n",
      "Frequency of enough is 1\n",
      "Frequency of ice. is 0\n",
      "Frequency of Some is 2\n",
      "Frequency of Is is 1\n",
      "Frequency of had is 1\n",
      "Frequency of world is 1\n",
      "Frequency of To is 1\n",
      "Frequency of with is 1\n",
      "{'of': 2, 'From': 1, 'desire': 1, 'favor': 1, 'those': 1, 'perish': 1, 'that': 1, 'know': 1, 'fire.': 0, 'hold': 1, 'in': 2, 'great': 1, 'also': 1, 'it': 1, 'ice': 2, 'And': 1, 'I’ve': 1, 'destruction': 1, 'the': 1, 'if': 1, 'who': 1, 'end': 1, 'twice,': 0, 'But': 1, 'to': 1, 'say': 3, 'tasted': 1, 'I': 3, 'think': 1, 'for': 1, 'would': 1, 'suffice.': 0, 'will': 1, 'what': 1, 'fire,': 0, 'hate': 1, 'enough': 1, 'ice.': 0, 'Some': 2, 'Is': 1, 'had': 1, 'world': 1, 'To': 1, 'with': 1}\n"
     ]
    }
   ],
   "source": [
    "poem_2 = poem.replace(\",\", \" \").replace(\".\", \" \").replace(\"\\n\", \" \")\n",
    "print(poem_2)\n",
    "\n",
    "str_poem2=poem_2.split()\n",
    "print(str_poem2)\n",
    "\n",
    "poem2_words = set(str_poem2)\n",
    "\n",
    "d2 = {}\n",
    "\n",
    "for words in poem_words:\n",
    "   print(\"Frequency of\", words, \"is\", str_poem2.count(words))\n",
    "   d2[words]= str_poem2.count(words)\n",
    "print(d2)"
   ]
  },
  {
   "cell_type": "code",
   "execution_count": 133,
   "metadata": {},
   "outputs": [
    {
     "name": "stdout",
     "output_type": "stream",
     "text": [
      "i was angry with my friend \n",
      "i told my wrath my wrath did end\n",
      "i was angry with my foe \n",
      "i told it not my wrath did grow \n",
      "\n",
      "and i waterd it in fears\n",
      "night  morning with my tears \n",
      "and i sunned it with smiles\n",
      "and with soft deceitful wiles \n",
      "\n",
      "and it grew both day and night \n",
      "till it bore an apple bright \n",
      "and my foe beheld it shine\n",
      "and he knew that it was mine \n",
      "\n",
      "and into my garden stole \n",
      "when the night had veild the pole \n",
      "in the morning glad i see \n",
      "my foe outstretched beneath the tree\n",
      "['i', 'was', 'angry', 'with', 'my', 'friend', 'i', 'told', 'my', 'wrath', 'my', 'wrath', 'did', 'end', 'i', 'was', 'angry', 'with', 'my', 'foe', 'i', 'told', 'not', 'my', 'wrath', 'did', 'grow', 'i', 'waterd', 'fears', 'night', 'morning', 'with', 'my', 'tears', 'i', 'sunned', 'with', 'smiles', 'with', 'soft', 'deceitful', 'wiles', 'grew', 'both', 'day', 'night', 'till', 'bore', 'apple', 'bright', 'my', 'foe', 'beheld', 'shine', 'he', 'knew', 'that', 'was', 'mine', 'into', 'my', 'garden', 'stole', 'when', 'night', 'had', 'veild', 'pole', 'morning', 'glad', 'i', 'see', 'my', 'foe', 'outstretched', 'beneath', 'tree']\n"
     ]
    }
   ],
   "source": [
    "#In the cell below, find all the words that appear in the text and do not appear in the blacklist. \n",
    "#You must parse the string but can choose any data structure you wish for the words that do not appear in \n",
    "#the blacklist. \n",
    "#Remove all non letter characters and convert all words to lower case.\n",
    "\n",
    "blacklist = ['and', 'as', 'an', 'a', 'the', 'in', 'it']\n",
    "\n",
    "poem = \"\"\"I was angry with my friend; \n",
    "I told my wrath, my wrath did end.\n",
    "I was angry with my foe: \n",
    "I told it not, my wrath did grow. \n",
    "\n",
    "And I waterd it in fears,\n",
    "Night & morning with my tears: \n",
    "And I sunned it with smiles,\n",
    "And with soft deceitful wiles. \n",
    "\n",
    "And it grew both day and night. \n",
    "Till it bore an apple bright. \n",
    "And my foe beheld it shine,\n",
    "And he knew that it was mine. \n",
    "\n",
    "And into my garden stole, \n",
    "When the night had veild the pole; \n",
    "In the morning glad I see; \n",
    "My foe outstretched beneath the tree.\"\"\"\n",
    "\n",
    "# Your code here:\n",
    "poem_lower = poem.lower()\n",
    "#print(poem_lower)\n",
    "\n",
    "poem_final = ''.join(re.findall('[\\w\\s]', poem_lower))\n",
    "print(poem_final)\n",
    "\n",
    "\n",
    "poem_list = poem_final.split()\n",
    "#print(poem_list)\n",
    "\n",
    "poem_ok = [i for i in poem_list if i not in blacklist]\n",
    "print(poem_ok)\n",
    "#blacklist_set = set(blacklist)\n",
    "#print(blacklist_set)\n",
    "\n",
    "#poem_set = set(poem_list)\n",
    "#print(poem_set)\n",
    "\n",
    "#poem_words_ok = poem_set - blacklist_set\n",
    "#print(poem_words_ok)"
   ]
  },
  {
   "cell_type": "markdown",
   "metadata": {},
   "source": [
    "# Challenge 3 - Regular Expressions\n",
    "\n",
    "Sometimes, we would like to perform more complex manipulations of our string. This is where regular expressions come in handy. In the cell below, return all characters that are upper case from the string specified below."
   ]
  },
  {
   "cell_type": "code",
   "execution_count": 134,
   "metadata": {},
   "outputs": [
    {
     "name": "stdout",
     "output_type": "stream",
     "text": [
      "['T', 'P']\n"
     ]
    }
   ],
   "source": [
    "poem = \"\"\"The apparition of these faces in the crowd;\n",
    "Petals on a wet, black bough.\"\"\"\n",
    "\n",
    "# Your code here:\n",
    "print(re.findall(\"[A-Z]\", poem))"
   ]
  },
  {
   "cell_type": "markdown",
   "metadata": {},
   "source": [
    "In the cell below, filter the list provided and return all elements of the list containing a number. To filter the list, use the `re.search` function. Check if the function does not return `None`. You can read more about the `re.search` function [here](https://docs.python.org/3/library/re.html)."
   ]
  },
  {
   "cell_type": "code",
   "execution_count": 142,
   "metadata": {},
   "outputs": [
    {
     "name": "stdout",
     "output_type": "stream",
     "text": [
      "['123abc', 'abc123', 'JohnSmith1', 'ABBY4']\n"
     ]
    }
   ],
   "source": [
    "data = ['123abc', 'abc123', 'JohnSmith1', 'ABBY4', 'JANE']\n",
    "\n",
    "# Your code here:\n",
    "\n",
    "print([word for word in data if re.search(\"\\d\", word)])"
   ]
  },
  {
   "cell_type": "markdown",
   "metadata": {},
   "source": [
    "# Bonus Challenge - Regular Expressions II\n",
    "\n",
    "In the cell below, filter the list provided to keep only strings containing at least one digit and at least one lower case letter. As in the previous question, use the `re.search` function and check that the result is not `None`.\n",
    "\n",
    "To read more about regular expressions, check out [this link](https://developers.google.com/edu/python/regular-expressions)."
   ]
  },
  {
   "cell_type": "code",
   "execution_count": 150,
   "metadata": {},
   "outputs": [
    {
     "name": "stdout",
     "output_type": "stream",
     "text": [
      "['123abc', 'abc123', 'JohnSmith1']\n"
     ]
    }
   ],
   "source": [
    "data = ['123abc', 'abc123', 'JohnSmith1', 'ABBY4', 'JANE']\n",
    "# Your code here:\n",
    "\n",
    "print([word for word in data if re.search((\"[a-z]\"), word) and re.search((\"[0-9]\"), word)])"
   ]
  },
  {
   "cell_type": "code",
   "execution_count": null,
   "metadata": {},
   "outputs": [],
   "source": []
  },
  {
   "cell_type": "code",
   "execution_count": null,
   "metadata": {},
   "outputs": [],
   "source": []
  }
 ],
 "metadata": {
  "kernelspec": {
   "display_name": "Python 3",
   "language": "python",
   "name": "python3"
  },
  "language_info": {
   "codemirror_mode": {
    "name": "ipython",
    "version": 3
   },
   "file_extension": ".py",
   "mimetype": "text/x-python",
   "name": "python",
   "nbconvert_exporter": "python",
   "pygments_lexer": "ipython3",
   "version": "3.7.3"
  }
 },
 "nbformat": 4,
 "nbformat_minor": 2
}
