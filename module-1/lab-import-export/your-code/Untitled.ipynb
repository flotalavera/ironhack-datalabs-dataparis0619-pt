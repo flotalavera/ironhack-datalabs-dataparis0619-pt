{
 "cells": [
  {
   "cell_type": "code",
   "execution_count": null,
   "metadata": {},
   "outputs": [],
   "source": [
    "#data = pd.read_json('/Users/floratalavera/ironhack/Labs/ironhack-datalabs-dataparis0619-pt/module-1/lab-import-export/vehicles.json', orient='records')\n",
    "\n",
    "data.to_json('/Users/floratalavera/ironhack/Labs/ironhack-datalabs-dataparis0619-pt/module-1/lab-import-export/vehicles.json', orient='records')"
   ]
  },
  {
   "cell_type": "code",
   "execution_count": null,
   "metadata": {},
   "outputs": [],
   "source": []
  }
 ],
 "metadata": {
  "kernelspec": {
   "display_name": "Python 3",
   "language": "python",
   "name": "python3"
  }
 },
 "nbformat": 4,
 "nbformat_minor": 2
}
