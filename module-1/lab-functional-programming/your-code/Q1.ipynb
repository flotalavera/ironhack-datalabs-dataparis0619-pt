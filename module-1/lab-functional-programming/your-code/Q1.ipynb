{
 "cells": [
  {
   "cell_type": "markdown",
   "metadata": {},
   "source": [
    "In the cell below, create a Python function that wraps your previous solution for the Bag of Words lab.\n",
    "\n",
    "Requirements:\n",
    "\n",
    "1. Your function should accept the following parameters:\n",
    "    * `docs` [REQUIRED] - array of document paths.\n",
    "    * `stop_words` [OPTIONAL] - array of stop words. The default value is an empty array.\n",
    "\n",
    "1. Your function should return a Python object that contains the following:\n",
    "    * `bag_of_words` - array of strings of normalized unique words in the corpus.\n",
    "    * `term_freq` - array of the term-frequency vectors."
   ]
  },
  {
   "cell_type": "code",
   "execution_count": 32,
   "metadata": {},
   "outputs": [
    {
     "data": {
      "text/plain": [
       "{'bag_of_words': ['ironhack',\n",
       "  'is',\n",
       "  'cool',\n",
       "  'i',\n",
       "  'love',\n",
       "  'am',\n",
       "  'a',\n",
       "  'student',\n",
       "  'at'],\n",
       " 'term_freq': [[1, 1, 1, 0, 0, 0, 0, 0, 0],\n",
       "  [1, 0, 0, 1, 1, 0, 0, 0, 0],\n",
       "  [1, 0, 0, 1, 0, 1, 1, 1, 1]]}"
      ]
     },
     "execution_count": 32,
     "metadata": {},
     "output_type": "execute_result"
    }
   ],
   "source": [
    "# Import required libraries\n",
    "import os\n",
    "import pandas as pd\n",
    "\n",
    "docs = ['/Users/floratalavera/ironhack/Labs/ironhack-datalabs-dataparis0619-pt/module-1/lab-string-operations/your-code/doc1.txt', '/Users/floratalavera/ironhack/Labs/ironhack-datalabs-dataparis0619-pt/module-1/lab-string-operations/your-code/doc2.txt', '/Users/floratalavera/ironhack/Labs/ironhack-datalabs-dataparis0619-pt/module-1/lab-string-operations/your-code/doc3.txt']\n",
    "#docs_list = [f for f in os.listdir('/Users/floratalavera/ironhack/Labs/ironhack-datalabs-dataparis0619-pt/module-1/lab-string-operations/your-code/') if f.endswith('.txt')]\n",
    "\n",
    "\n",
    "# Define function\n",
    "def get_bow_from_docs(docs, stop_words=[]):\n",
    "    corpus = []\n",
    "    bag_of_words = []\n",
    "    term_freq = []\n",
    "    \n",
    "    \n",
    "    # In the function, first define the variables you will use such as `corpus`, `bag_of_words`, and `term_freq`.\n",
    "    \n",
    "    \"\"\"\n",
    "    Loop `docs` and read the content of each doc into a string in `corpus`.\n",
    "    Remember to convert the doc content to lowercases and remove punctuation.\n",
    "    \"\"\"\n",
    "    for doc in docs:\n",
    "       with open(doc, \"r\") as f:\n",
    "           lines = f.readlines()\n",
    "       for line in lines:\n",
    "           corpus.append(line)\n",
    "\n",
    "    corpus = [W.replace('.', \"\").lower() for W in corpus]\n",
    "    \n",
    "    \"\"\"\n",
    "    Loop `corpus`. Append the terms in each doc into the `bag_of_words` array. The terms in `bag_of_words` \n",
    "    should be unique which means before adding each term you need to check if it's already added to the array.\n",
    "    In addition, check if each term is in the `stop_words` array. Only append the term to `bag_of_words`\n",
    "    if it is not a stop word.\n",
    "    \"\"\"\n",
    "    \n",
    "\n",
    "    for string in corpus: \n",
    "        array = string.split()\n",
    "        for term in array:\n",
    "            if (term not in bag_of_words) & (term not in stop_words):\n",
    "                bag_of_words.append(term)\n",
    "\n",
    "                \n",
    "    \"\"\"\n",
    "    Loop `corpus` again. For each doc string, count the number of occurrences of each term in `bag_of_words`. \n",
    "    Create an array for each doc's term frequency and append it to `term_freq`.\n",
    "    \"\"\"\n",
    "    \n",
    "    for string in corpus:\n",
    "        array = []\n",
    "        for terms in bag_of_words:\n",
    "            if terms in string.split():\n",
    "                array.append(1)\n",
    "            else:\n",
    "                array.append(0)\n",
    "    \n",
    "        term_freq.append(array)\n",
    "    \n",
    "    # Now return your output as an object\n",
    "    return {\n",
    "        \"bag_of_words\": bag_of_words,\n",
    "        \"term_freq\": term_freq\n",
    "    }\n",
    "\n",
    "get_bow_from_docs(docs, stop_words=[])\n"
   ]
  },
  {
   "cell_type": "markdown",
   "metadata": {},
   "source": [
    "Test your function without stop words. You should see the output like below:\n",
    "\n",
    "```{'bag_of_words': ['ironhack', 'is', 'cool', 'i', 'love', 'am', 'a', 'student', 'at'], 'term_freq': [[1, 1, 1, 0, 0, 0, 0, 0, 0], [1, 0, 0, 1, 1, 0, 0, 0, 0], [1, 0, 0, 1, 0, 1, 1, 1, 1]]}```"
   ]
  },
  {
   "cell_type": "code",
   "execution_count": 26,
   "metadata": {},
   "outputs": [
    {
     "name": "stdout",
     "output_type": "stream",
     "text": [
      "{'bag_of_words': ['ironhack', 'is', 'cool', 'i', 'love', 'am', 'a', 'student', 'at'], 'term_freq': [[1, 1, 1, 0, 0, 0, 0, 0, 0], [1, 0, 0, 1, 1, 0, 0, 0, 0], [1, 0, 0, 1, 0, 1, 1, 1, 1]]}\n"
     ]
    }
   ],
   "source": [
    "# Define doc paths array\n",
    "docs = ['/Users/floratalavera/ironhack/Labs/ironhack-datalabs-dataparis0619-pt/module-1/lab-string-operations/your-code/doc1.txt', '/Users/floratalavera/ironhack/Labs/ironhack-datalabs-dataparis0619-pt/module-1/lab-string-operations/your-code/doc2.txt', '/Users/floratalavera/ironhack/Labs/ironhack-datalabs-dataparis0619-pt/module-1/lab-string-operations/your-code/doc3.txt']\n",
    "\n",
    "# Obtain BoW from your function\n",
    "bow = get_bow_from_docs(docs)\n",
    "\n",
    "# Print BoW\n",
    "print(bow)"
   ]
  },
  {
   "cell_type": "markdown",
   "metadata": {},
   "source": [
    "If your attempt above is successful, nice work done!\n",
    "\n",
    "Now test your function again with the stop words. In the previous lab we defined the stop words in a large array. In this lab, we'll import the stop words from Scikit-Learn."
   ]
  },
  {
   "cell_type": "code",
   "execution_count": 27,
   "metadata": {},
   "outputs": [
    {
     "name": "stdout",
     "output_type": "stream",
     "text": [
      "frozenset({'cant', 'front', 'it', 'me', 'mill', 'others', 'amoungst', 'toward', 'former', 'noone', 'my', 'whom', 'throughout', 're', 'beforehand', 'amount', 'with', 'de', 'first', 'several', 'yours', 'fifteen', 'through', 'yourselves', 'down', 'find', 'still', 'nothing', 'seem', 'give', 'only', 'whereafter', 'perhaps', 'besides', 'ie', 'has', 'out', 'nor', 'over', 'across', 'next', 'everything', 'sometime', 'latterly', 'enough', 'to', 'show', 'hereafter', 'or', 'these', 'hereby', 'please', 'within', 'side', 'two', 'yourself', 'few', 'no', 'since', 'itself', 'their', 'often', 'almost', 'do', 'therein', 'much', 'a', 'eg', 'per', 'another', 'mostly', 'seeming', 'behind', 'anywhere', 'done', 'am', 'without', 'third', 'all', 'moreover', 'be', 'are', 'twelve', 'becomes', 'below', 'been', 'something', 'nevertheless', 'hers', 'top', 'part', 'about', 'always', 'among', 'mine', 'themselves', 'made', 'whose', 'put', 'none', 'somehow', 'system', 'namely', 'whether', 'on', 'very', 'sincere', 'after', 'against', 'call', 'fifty', 'whence', 'last', 'were', 'of', 'either', 'otherwise', 'also', 'too', 'became', 'un', 'someone', 'then', 'where', 'from', 'even', 'being', 'same', 'other', 'eight', 'is', 'i', 'somewhere', 'four', 'myself', 'becoming', 'because', 'was', 'via', 'seemed', 'now', 'hundred', 'twenty', 'around', 'them', 'ten', 'nowhere', 'himself', 'sometimes', 'more', 'so', 'some', 'but', 'yet', 'least', 'there', 'further', 'see', 'she', 'during', 'nine', 'ltd', 'what', 'thus', 'whenever', 'than', 'most', 'this', 'if', 'cry', 'between', 'before', 'any', 'along', 'which', 'ever', 'fill', 'must', 'in', 'have', 'six', 'they', 'each', 'neither', 'formerly', 'indeed', 'and', 'may', 'anyhow', 'up', 'co', 'whereas', 'serious', 'could', 'here', 'can', 'whole', 'due', 'never', 'elsewhere', 'take', 'thru', 'get', 'your', 'interest', 'afterwards', 'therefore', 'who', 'nobody', 'wherever', 'whereupon', 'towards', 'whither', 'anyone', 'thence', 'at', 'herein', 'many', 'seems', 'rather', 'under', 'an', 'inc', 'alone', 'go', 'name', 'hereupon', 'not', 'already', 'ourselves', 'whereby', 'anyway', 'once', 'thin', 'such', 'herself', 'he', 'thereafter', 'might', 'above', 'sixty', 'move', 'except', 'detail', 'thereupon', 'we', 'both', 'five', 'everywhere', 'however', 'beside', 'describe', 'his', 'ours', 'hence', 'as', 'couldnt', 'meanwhile', 'full', 'the', 'again', 'whoever', 'off', 'until', 'three', 'us', 'become', 'well', 'together', 'her', 'whatever', 'else', 'less', 'con', 'found', 'how', 'although', 'should', 'everyone', 'those', 'forty', 'onto', 'when', 'every', 'one', 'amongst', 'own', 'that', 'while', 'bottom', 'for', 'thereby', 'him', 'though', 'by', 'will', 'our', 'bill', 'keep', 'why', 'latter', 'anything', 'fire', 'would', 'cannot', 'wherein', 'its', 'hasnt', 'etc', 'eleven', 'had', 'upon', 'back', 'empty', 'you', 'thick', 'beyond', 'into'})\n"
     ]
    }
   ],
   "source": [
    "from sklearn.feature_extraction import stop_words\n",
    "print(stop_words.ENGLISH_STOP_WORDS)"
   ]
  },
  {
   "cell_type": "markdown",
   "metadata": {},
   "source": [
    "You should have seen a large list of words that looks like:\n",
    "\n",
    "```frozenset({'across', 'mine', 'cannot', ...})```\n",
    "\n",
    "`frozenset` is a type of Python object that is immutable. In this lab you can use it just like an array without conversion."
   ]
  },
  {
   "cell_type": "markdown",
   "metadata": {},
   "source": [
    "Next, test your function with supplying `stop_words.ENGLISH_STOP_WORDS` as the second parameter."
   ]
  },
  {
   "cell_type": "code",
   "execution_count": 33,
   "metadata": {},
   "outputs": [
    {
     "name": "stdout",
     "output_type": "stream",
     "text": [
      "{'bag_of_words': ['ironhack', 'cool', 'love', 'student'], 'term_freq': [[1, 1, 0, 0], [1, 0, 1, 0], [1, 0, 0, 1]]}\n"
     ]
    }
   ],
   "source": [
    "bow = get_bow_from_docs(docs, stop_words.ENGLISH_STOP_WORDS)\n",
    "\n",
    "print(bow)"
   ]
  },
  {
   "cell_type": "markdown",
   "metadata": {},
   "source": [
    "You should have seen:\n",
    "\n",
    "```{'bag_of_words': ['ironhack', 'cool', 'love', 'student'], 'term_freq': [[1, 1, 0, 0], [1, 0, 1, 0], [1, 0, 0, 1]]}```"
   ]
  },
  {
   "cell_type": "code",
   "execution_count": null,
   "metadata": {},
   "outputs": [],
   "source": []
  }
 ],
 "metadata": {
  "kernelspec": {
   "display_name": "Python 3",
   "language": "python",
   "name": "python3"
  },
  "language_info": {
   "codemirror_mode": {
    "name": "ipython",
    "version": 3
   },
   "file_extension": ".py",
   "mimetype": "text/x-python",
   "name": "python",
   "nbconvert_exporter": "python",
   "pygments_lexer": "ipython3",
   "version": "3.7.3"
  }
 },
 "nbformat": 4,
 "nbformat_minor": 2
}
