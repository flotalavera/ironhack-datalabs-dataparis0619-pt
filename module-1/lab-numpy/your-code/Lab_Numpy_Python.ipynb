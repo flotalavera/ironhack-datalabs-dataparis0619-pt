{
 "cells": [
  {
   "cell_type": "code",
   "execution_count": 8,
   "metadata": {},
   "outputs": [
    {
     "name": "stdout",
     "output_type": "stream",
     "text": [
      "1.16.2\n",
      "mkl_info:\n",
      "    libraries = ['mkl_rt', 'pthread']\n",
      "    library_dirs = ['/Users/floratalavera/anaconda3/lib']\n",
      "    define_macros = [('SCIPY_MKL_H', None), ('HAVE_CBLAS', None)]\n",
      "    include_dirs = ['/Users/floratalavera/anaconda3/include']\n",
      "blas_mkl_info:\n",
      "    libraries = ['mkl_rt', 'pthread']\n",
      "    library_dirs = ['/Users/floratalavera/anaconda3/lib']\n",
      "    define_macros = [('SCIPY_MKL_H', None), ('HAVE_CBLAS', None)]\n",
      "    include_dirs = ['/Users/floratalavera/anaconda3/include']\n",
      "blas_opt_info:\n",
      "    libraries = ['mkl_rt', 'pthread']\n",
      "    library_dirs = ['/Users/floratalavera/anaconda3/lib']\n",
      "    define_macros = [('SCIPY_MKL_H', None), ('HAVE_CBLAS', None)]\n",
      "    include_dirs = ['/Users/floratalavera/anaconda3/include']\n",
      "lapack_mkl_info:\n",
      "    libraries = ['mkl_rt', 'pthread']\n",
      "    library_dirs = ['/Users/floratalavera/anaconda3/lib']\n",
      "    define_macros = [('SCIPY_MKL_H', None), ('HAVE_CBLAS', None)]\n",
      "    include_dirs = ['/Users/floratalavera/anaconda3/include']\n",
      "lapack_opt_info:\n",
      "    libraries = ['mkl_rt', 'pthread']\n",
      "    library_dirs = ['/Users/floratalavera/anaconda3/lib']\n",
      "    define_macros = [('SCIPY_MKL_H', None), ('HAVE_CBLAS', None)]\n",
      "    include_dirs = ['/Users/floratalavera/anaconda3/include']\n",
      "None\n",
      "[[[0.72601513 0.30171549 0.41275998 0.72218434 0.23857477]\n",
      "  [0.70717502 0.91097546 0.47782411 0.91988828 0.31691202]\n",
      "  [0.80997849 0.29893512 0.21290781 0.61379669 0.16903272]]\n",
      "\n",
      " [[0.60475664 0.9388052  0.29334758 0.83340397 0.5490442 ]\n",
      "  [0.73633918 0.76345891 0.33943553 0.16164425 0.58700672]\n",
      "  [0.60384862 0.2533148  0.70890982 0.44423429 0.19523771]]]\n"
     ]
    }
   ],
   "source": [
    "#1. Import the NUMPY package under the name np.\n",
    "\n",
    "import numpy as np\n",
    "\n",
    "\n",
    "#2. Print the NUMPY version and the configuration.\n",
    "\n",
    "print(np.__version__)\n",
    "print(np.show_config())\n",
    "\n",
    "#3. Generate a 2x3x5 3-dimensional array with random values. Assign the array to variable \"a\"\n",
    "# Challenge: there are at least three easy ways that use numpy to generate random arrays. How many ways can you find?\n",
    "\n",
    "a = np.random.random((2,3,5))\n",
    "\n",
    "#4. Print a.\n",
    "print(a)"
   ]
  },
  {
   "cell_type": "code",
   "execution_count": 21,
   "metadata": {},
   "outputs": [
    {
     "name": "stdout",
     "output_type": "stream",
     "text": [
      "[[[1. 1. 1.]\n",
      "  [1. 1. 1.]]\n",
      "\n",
      " [[1. 1. 1.]\n",
      "  [1. 1. 1.]]\n",
      "\n",
      " [[1. 1. 1.]\n",
      "  [1. 1. 1.]]\n",
      "\n",
      " [[1. 1. 1.]\n",
      "  [1. 1. 1.]]\n",
      "\n",
      " [[1. 1. 1.]\n",
      "  [1. 1. 1.]]]\n",
      "30\n",
      "30\n",
      "True\n"
     ]
    },
    {
     "ename": "ValueError",
     "evalue": "operands could not be broadcast together with shapes (2,3,5) (5,2,3) ",
     "output_type": "error",
     "traceback": [
      "\u001b[0;31m---------------------------------------------------------------------------\u001b[0m",
      "\u001b[0;31mValueError\u001b[0m                                Traceback (most recent call last)",
      "\u001b[0;32m<ipython-input-21-fc07bd953a93>\u001b[0m in \u001b[0;36m<module>\u001b[0;34m\u001b[0m\n\u001b[1;32m     19\u001b[0m \u001b[0;31m#8. Are you able to add a and b? Why or why not?\u001b[0m\u001b[0;34m\u001b[0m\u001b[0;34m\u001b[0m\u001b[0;34m\u001b[0m\u001b[0m\n\u001b[1;32m     20\u001b[0m \u001b[0;34m\u001b[0m\u001b[0m\n\u001b[0;32m---> 21\u001b[0;31m \u001b[0mprint\u001b[0m\u001b[0;34m(\u001b[0m\u001b[0mnp\u001b[0m\u001b[0;34m.\u001b[0m\u001b[0madd\u001b[0m\u001b[0;34m(\u001b[0m\u001b[0ma\u001b[0m\u001b[0;34m,\u001b[0m \u001b[0mb\u001b[0m\u001b[0;34m)\u001b[0m\u001b[0;34m)\u001b[0m\u001b[0;34m\u001b[0m\u001b[0;34m\u001b[0m\u001b[0m\n\u001b[0m",
      "\u001b[0;31mValueError\u001b[0m: operands could not be broadcast together with shapes (2,3,5) (5,2,3) "
     ]
    }
   ],
   "source": [
    "#5. Create a 5x2x3 3-dimensional array with all values equaling 1.\n",
    "#Assign the array to variable \"b\"\n",
    "\n",
    "b = np.ones((5,2,3))\n",
    "\n",
    "\n",
    "#6. Print b.\n",
    "print(b)\n",
    "\n",
    "\n",
    "#7. Do a and b have the same size? How do you prove that in Python code?\n",
    "\n",
    "print(a.size)\n",
    "print(b.size)\n",
    "\n",
    "if a.size == b.size:\n",
    "    print(True)\n",
    "\n",
    "#8. Are you able to add a and b? Why or why not?\n",
    "\n",
    "print(np.add(a, b))\n",
    "\n",
    "#a and b cant be added because they don't have the same shapes\n"
   ]
  },
  {
   "cell_type": "code",
   "execution_count": 35,
   "metadata": {},
   "outputs": [
    {
     "name": "stdout",
     "output_type": "stream",
     "text": [
      "[[[1. 1. 1. 1. 1.]\n",
      "  [1. 1. 1. 1. 1.]\n",
      "  [1. 1. 1. 1. 1.]]\n",
      "\n",
      " [[1. 1. 1. 1. 1.]\n",
      "  [1. 1. 1. 1. 1.]\n",
      "  [1. 1. 1. 1. 1.]]]\n",
      "[[[1.72601513 1.30171549 1.41275998 1.72218434 1.23857477]\n",
      "  [1.70717502 1.91097546 1.47782411 1.91988828 1.31691202]\n",
      "  [1.80997849 1.29893512 1.21290781 1.61379669 1.16903272]]\n",
      "\n",
      " [[1.60475664 1.9388052  1.29334758 1.83340397 1.5490442 ]\n",
      "  [1.73633918 1.76345891 1.33943553 1.16164425 1.58700672]\n",
      "  [1.60384862 1.2533148  1.70890982 1.44423429 1.19523771]]]\n",
      "[[[0.72601513 0.30171549 0.41275998 0.72218434 0.23857477]\n",
      "  [0.70717502 0.91097546 0.47782411 0.91988828 0.31691202]\n",
      "  [0.80997849 0.29893512 0.21290781 0.61379669 0.16903272]]\n",
      "\n",
      " [[0.60475664 0.9388052  0.29334758 0.83340397 0.5490442 ]\n",
      "  [0.73633918 0.76345891 0.33943553 0.16164425 0.58700672]\n",
      "  [0.60384862 0.2533148  0.70890982 0.44423429 0.19523771]]]\n"
     ]
    }
   ],
   "source": [
    "#9. Transpose b so that it has the same structure of a (i.e. become a 2x3x5 array). Assign the transposed array to varialbe \"c\".\n",
    "\n",
    "c = np.reshape(b, (2,3,5))\n",
    "print(c)\n",
    "\n",
    "#10. Try to add a and c. Now it should work. Assign the sum to varialbe \"d\". But why does it work now?\n",
    "\n",
    "d = np.add(a, c)\n",
    "\n",
    "\n",
    "#11. Print a and d. Notice the difference and relation of the two array in terms of the values? Explain.\n",
    "\n",
    "print(d)\n",
    "\n",
    "\n",
    "#12. Multiply a and c. Assign the result to e.\n",
    "\n",
    "e = np.multiply(a, c)\n",
    "print(e)\n",
    "\n",
    "#13. Does e equal to a? Why or why not?\n",
    "\n",
    "#e equal to a because we multiplied the values by 1\n",
    "\n"
   ]
  },
  {
   "cell_type": "code",
   "execution_count": 62,
   "metadata": {},
   "outputs": [
    {
     "name": "stdout",
     "output_type": "stream",
     "text": [
      "The maximum value of d is 1.9388052025213076\n",
      "The minimum value of d is 1.161644247501045\n",
      "The mean of d is 1.5283820939726351\n",
      "[[[1.72601513 1.30171549 1.41275998 1.72218434 1.23857477]\n",
      "  [1.70717502 1.91097546 1.47782411 1.91988828 1.31691202]\n",
      "  [1.80997849 1.29893512 1.21290781 1.61379669 1.16903272]]\n",
      "\n",
      " [[1.60475664 1.9388052  1.29334758 1.83340397 1.5490442 ]\n",
      "  [1.73633918 1.76345891 1.33943553 1.16164425 1.58700672]\n",
      "  [1.60384862 1.2533148  1.70890982 1.44423429 1.19523771]]]\n"
     ]
    }
   ],
   "source": [
    "#14. Identify the max, min, and mean values in d. Assign those values to variables \"d_max\", \"d_min\", and \"d_mean\"\n",
    "\n",
    "d_max = np.max(d)\n",
    "print(\"The maximum value of d is\", d_max)\n",
    "\n",
    "\n",
    "d_min = np.min(d)\n",
    "print(\"The minimum value of d is\", d_min)\n",
    "\n",
    "d_mean = np.mean(d)\n",
    "print(\"The mean of d is\", d_mean)\n",
    "\n",
    "\n",
    "#15. Now we want to label the values in d. First create an empty array \"f\" with the same shape (i.e. 2x3x5) as d using `np.empty`.\n",
    "\n",
    "f = np.empty([2,3,5])\n",
    "print(f)\n",
    "#print(d)\n",
    "\n",
    "\n"
   ]
  },
  {
   "cell_type": "code",
   "execution_count": 82,
   "metadata": {},
   "outputs": [
    {
     "name": "stdout",
     "output_type": "stream",
     "text": [
      "[[[ 75.  25.  25.  75.  25.]\n",
      "  [ 75.  75.  25.  75.  25.]\n",
      "  [ 75.  25.  25.  75.  25.]]\n",
      "\n",
      " [[ 75. 100.  25.  75.  75.]\n",
      "  [ 75.  75.  25.   0.  75.]\n",
      "  [ 75.  25.  75.  25.  25.]]]\n"
     ]
    }
   ],
   "source": [
    "\n",
    "\"\"\"\n",
    "#16. Populate the values in f. For each value in d, if it's larger than d_min but smaller than d_mean, assign 25 to the corresponding value in f.\n",
    "If a value in d is larger than d_mean but smaller than d_max, assign 75 to the corresponding value in f.\n",
    "If a value equals to d_mean, assign 50 to the corresponding value in f.\n",
    "Assign 0 to the corresponding value(s) in f for d_min in d.\n",
    "Assign 100 to the corresponding value(s) in f for d_max in d.\n",
    "In the end, f should have only the following values: 0, 25, 50, 75, and 100.\n",
    "Note: you don't have to use Numpy in this question.\n",
    "\"\"\"\n",
    "\n",
    "\n",
    "for i in range(len(d)):\n",
    "    #print(i)\n",
    "    for j in range(len(d[0])):\n",
    "    #print(j)\n",
    "        for k in range(len(d[0][0])):\n",
    "            \n",
    "            value = d[i][j][k]\n",
    "            #print(value)\n",
    "        \n",
    "            if (value > d_min) & (value < d_mean):\n",
    "                f[i][j][k] = 25\n",
    "                #assign 25 to the corresponding value in f\n",
    "                \n",
    "            elif (value > d_mean) & (value < d_max):\n",
    "                #print(1)\n",
    "                f[i][j][k] = 75\n",
    "                #assign 75 to the corresponding value in f\n",
    "\n",
    "            elif value == d_mean:\n",
    "                #print(2)\n",
    "                f[i][j][k] = 50\n",
    "                #assign 50 to the corresponding value in f\n",
    "\n",
    "            elif value == d_min:\n",
    "                #print(3)\n",
    "                f[i][j][k] = 0\n",
    "                #assign 0 to the corresponding value(s) in f\n",
    "\n",
    "            elif value == d_max:\n",
    "                #print(4)\n",
    "                f[i][j][k] = 100\n",
    "                #assign 100 to the corresponding value(s) in f\n",
    "\n",
    "\n",
    "\n"
   ]
  },
  {
   "cell_type": "code",
   "execution_count": 84,
   "metadata": {},
   "outputs": [
    {
     "name": "stdout",
     "output_type": "stream",
     "text": [
      "[[[1.72601513 1.30171549 1.41275998 1.72218434 1.23857477]\n",
      "  [1.70717502 1.91097546 1.47782411 1.91988828 1.31691202]\n",
      "  [1.80997849 1.29893512 1.21290781 1.61379669 1.16903272]]\n",
      "\n",
      " [[1.60475664 1.9388052  1.29334758 1.83340397 1.5490442 ]\n",
      "  [1.73633918 1.76345891 1.33943553 1.16164425 1.58700672]\n",
      "  [1.60384862 1.2533148  1.70890982 1.44423429 1.19523771]]]\n",
      "[[[ 75.  25.  25.  75.  25.]\n",
      "  [ 75.  75.  25.  75.  25.]\n",
      "  [ 75.  25.  25.  75.  25.]]\n",
      "\n",
      " [[ 75. 100.  25.  75.  75.]\n",
      "  [ 75.  75.  25.   0.  75.]\n",
      "  [ 75.  25.  75.  25.  25.]]]\n"
     ]
    }
   ],
   "source": [
    "\"\"\"\n",
    "#17. Print d and f. Do you have your expected f?\n",
    "\n",
    "For instance, if your d is:\n",
    "array([[[1.85836099, 1.67064465, 1.62576044, 1.40243961, 1.88454931],\n",
    "        [1.75354326, 1.69403643, 1.36729252, 1.61415071, 1.12104981],\n",
    "        [1.72201435, 1.1862918 , 1.87078449, 1.7726778 , 1.88180042]],\n",
    "\n",
    "       [[1.44747908, 1.31673383, 1.02000951, 1.52218947, 1.97066381],\n",
    "        [1.79129243, 1.74983003, 1.96028037, 1.85166831, 1.65450881],\n",
    "        [1.18068344, 1.9587381 , 1.00656599, 1.93402165, 1.73514584]]])\n",
    "\n",
    "Your f should be:\n",
    "array([[[ 75.,  75.,  75.,  25.,  75.],\n",
    "        [ 75.,  75.,  25.,  25.,  25.],\n",
    "        [ 75.,  25.,  75.,  75.,  75.]],\n",
    "\n",
    "       [[ 25.,  25.,  25.,  25., 100.],\n",
    "        [ 75.,  75.,  75.,  75.,  75.],\n",
    "        [ 25.,  75.,   0.,  75.,  75.]]])\n",
    "        \n",
    "        \n",
    "\"\"\"\n",
    "\n",
    "print(d)\n",
    "print(f)"
   ]
  },
  {
   "cell_type": "code",
   "execution_count": null,
   "metadata": {},
   "outputs": [],
   "source": [
    "\"\"\"\n",
    "#18. Bonus question: instead of using numbers (i.e. 0, 25, 50, 75, and 100), how to use string values \n",
    "(\"A\", \"B\", \"C\", \"D\", and \"E\") to label the array elements? You are expecting the result to be:\n",
    "array([[[ 'D',  'D',  'D',  'B',  'D'],\n",
    "        [ 'D',  'D',  'B',  'B',  'B'],\n",
    "        [ 'D',  'B',  'D',  'D',  'D']],\n",
    "\n",
    "       [[ 'B',  'B',  'B',  'B',  'E'],\n",
    "        [ 'D',  'D',  'D',  'D',  'D'],\n",
    "        [ 'B',  'D',   'A',  'D', 'D']]])\n",
    "Again, you don't need Numpy in this question.\n",
    "\"\"\""
   ]
  }
 ],
 "metadata": {
  "kernelspec": {
   "display_name": "Python 3",
   "language": "python",
   "name": "python3"
  },
  "language_info": {
   "codemirror_mode": {
    "name": "ipython",
    "version": 3
   },
   "file_extension": ".py",
   "mimetype": "text/x-python",
   "name": "python",
   "nbconvert_exporter": "python",
   "pygments_lexer": "ipython3",
   "version": "3.7.3"
  }
 },
 "nbformat": 4,
 "nbformat_minor": 2
}
